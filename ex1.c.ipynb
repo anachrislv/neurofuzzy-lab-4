{
 "cells": [
  {
   "cell_type": "code",
   "execution_count": 32,
   "id": "23b34305",
   "metadata": {},
   "outputs": [],
   "source": [
    "import random\n",
    "from collections import Counter\n",
    "import numpy as np"
   ]
  },
  {
   "cell_type": "code",
   "execution_count": 33,
   "id": "f9f9135b",
   "metadata": {},
   "outputs": [],
   "source": [
    "\n",
    "class MarkovChain:\n",
    "    def __init__(self, transition_matrix, states):\n",
    "        self.transition_matrix = transition_matrix\n",
    "        self.states = states\n",
    "\n",
    "    def next_state(self, current_state):\n",
    "        next_state_probs = self.transition_matrix[current_state]\n",
    "        next_state = random.choices(self.states, weights=next_state_probs)[0]\n",
    "        return next_state\n",
    "\n",
    "    def generate_trajectory(self, start_state, num_steps):\n",
    "        trajectory = []\n",
    "        current_state = start_state\n",
    "        for _ in range(num_steps):\n",
    "            current_state = self.next_state(current_state)\n",
    "            trajectory.append(current_state)\n",
    "        return trajectory\n"
   ]
  },
  {
   "cell_type": "code",
   "execution_count": 34,
   "id": "19a565bd",
   "metadata": {},
   "outputs": [],
   "source": [
    "\n",
    "# Define transition matrix and states\n",
    "a = 0.1\n",
    "b = 0.1\n",
    "g = 0.1\n",
    "\n",
    "transition_matrix = {\n",
    "    'A': [0, 1 - a - b, a, b, 0],\n",
    "    'B': [0, 0, 1, 0, 0],\n",
    "    'C': [0, 0, 0, 1 - g, g],\n",
    "    'D': [1, 0, 0, 0, 0],\n",
    "    'E': [0, 0, 0.5, 0, 0.5]\n",
    "}"
   ]
  },
  {
   "cell_type": "code",
   "execution_count": 35,
   "id": "32bb39b9",
   "metadata": {},
   "outputs": [],
   "source": [
    "states = list(transition_matrix.keys())\n",
    "\n",
    "# Create Markov chain object\n",
    "mc = MarkovChain(transition_matrix, states)\n",
    "\n",
    "# Generate trajectory\n",
    "trajectory = mc.generate_trajectory('A', 10000)\n",
    "\n",
    "# Count the occurrences of each state in the trajectory\n",
    "state_counts = Counter(trajectory)\n",
    "\n",
    "# Calculate the percentage of time spent in each state\n",
    "total_time = sum(state_counts.values())\n",
    "state_percentages = {state: count / total_time for state, count in state_counts.items()}\n",
    "\n",
    "\n"
   ]
  },
  {
   "cell_type": "code",
   "execution_count": 36,
   "id": "afd64d71",
   "metadata": {},
   "outputs": [
    {
     "name": "stdout",
     "output_type": "stream",
     "text": [
      "Stationary Distribution (from eigenvectors):\n",
      "A: 25.00%\n",
      "B: 20.00%\n",
      "C: 25.00%\n",
      "D: 25.00%\n",
      "E: 5.00%\n",
      "\n",
      "Percentage of time spent in each state (from simulation):\n",
      "D: 24.97%\n",
      "A: 24.97%\n",
      "B: 20.08%\n",
      "C: 25.09%\n",
      "E: 4.89%\n"
     ]
    }
   ],
   "source": [
    "\n",
    "# Convert the transition matrix to a numpy array\n",
    "transition_matrix_array = np.array([transition_matrix[state] for state in states])\n",
    "\n",
    "# Calculate the stationary distribution using eigenvectors\n",
    "eigenvalues, eigenvectors = np.linalg.eig(transition_matrix_array.T)\n",
    "stationary_vector = np.array(eigenvectors[:, np.where(np.isclose(eigenvalues, 1))[0][0]].flat)\n",
    "stationary_distribution = stationary_vector / stationary_vector.sum()\n",
    "\n",
    "# Display the stationary distribution\n",
    "print(\"Stationary Distribution (from eigenvectors):\")\n",
    "for state, probability in zip(states, stationary_distribution):\n",
    "    print(f\"{state}: {np.real(probability):.2%}\")  # Extract the real part before formatting\n",
    "\n",
    "# Count the occurrences of each state in the trajectory\n",
    "state_counts = Counter(trajectory)\n",
    "\n",
    "# Calculate the percentage of time spent in each state\n",
    "total_time = sum(state_counts.values())\n",
    "state_percentages = {state: count / total_time for state, count in state_counts.items()}\n",
    "\n",
    "# Display the percentage of time spent in each state\n",
    "print(\"\\nPercentage of time spent in each state (from simulation):\")\n",
    "for state, percentage in state_percentages.items():\n",
    "    print(f\"{state}: {percentage:.2%}\")"
   ]
  },
  {
   "cell_type": "code",
   "execution_count": 37,
   "id": "a7d02aa4",
   "metadata": {},
   "outputs": [
    {
     "name": "stdout",
     "output_type": "stream",
     "text": [
      "Magnitudes of the eigenvalues:\n",
      "[0.92987237 0.88431078 0.88431078 1.         0.49507308]\n"
     ]
    }
   ],
   "source": [
    "# Convert the transition matrix to a numpy array\n",
    "transition_matrix_array = np.array([transition_matrix[state] for state in states])\n",
    "\n",
    "# Calculate the eigenvalues of the transition matrix\n",
    "eigenvalues = np.linalg.eigvals(transition_matrix_array)\n",
    "\n",
    "# Calculate the magnitudes of the eigenvalues\n",
    "eigenvalue_magnitudes = np.abs(eigenvalues)\n",
    "\n",
    "# Print the magnitudes of the eigenvalues\n",
    "print(\"Magnitudes of the eigenvalues:\")\n",
    "print(eigenvalue_magnitudes)\n"
   ]
  }
 ],
 "metadata": {
  "kernelspec": {
   "display_name": "Python 3 (ipykernel)",
   "language": "python",
   "name": "python3"
  },
  "language_info": {
   "codemirror_mode": {
    "name": "ipython",
    "version": 3
   },
   "file_extension": ".py",
   "mimetype": "text/x-python",
   "name": "python",
   "nbconvert_exporter": "python",
   "pygments_lexer": "ipython3",
   "version": "3.7.16"
  }
 },
 "nbformat": 4,
 "nbformat_minor": 5
}
