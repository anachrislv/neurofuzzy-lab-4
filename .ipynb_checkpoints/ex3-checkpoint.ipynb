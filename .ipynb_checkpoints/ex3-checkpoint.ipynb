{
 "cells": [
  {
   "cell_type": "code",
   "execution_count": 13,
   "id": "c5818ae7",
   "metadata": {},
   "outputs": [],
   "source": [
    "def optimal_strategy(N, C, p):\n",
    "    OPT = [0] * (N + 1)\n",
    "\n",
    "    for i in range(1, N + 1):\n",
    "        min_cost = float('inf')\n",
    "        for k in range(1, i + 1):\n",
    "            cost = (N - k) * (1 - p) + C * p + OPT[k - 1]\n",
    "            min_cost = min(min_cost, cost)\n",
    "        OPT[i] = min_cost\n",
    "\n",
    "    return OPT[N]"
   ]
  },
  {
   "cell_type": "code",
   "execution_count": 14,
   "id": "f37051d5",
   "metadata": {},
   "outputs": [
    {
     "name": "stdout",
     "output_type": "stream",
     "text": [
      "The optimal strategy has a cost of: 194.04999999999998\n"
     ]
    }
   ],
   "source": [
    "N = 200\n",
    "C = 100\n",
    "p = 0.05\n",
    "\n",
    "\n",
    "optimal_cost = optimal_strategy(N, C, p)\n",
    "print(\"The optimal strategy has a cost of:\", optimal_cost)\n"
   ]
  }
 ],
 "metadata": {
  "kernelspec": {
   "display_name": "Python 3 (ipykernel)",
   "language": "python",
   "name": "python3"
  },
  "language_info": {
   "codemirror_mode": {
    "name": "ipython",
    "version": 3
   },
   "file_extension": ".py",
   "mimetype": "text/x-python",
   "name": "python",
   "nbconvert_exporter": "python",
   "pygments_lexer": "ipython3",
   "version": "3.7.16"
  }
 },
 "nbformat": 4,
 "nbformat_minor": 5
}
