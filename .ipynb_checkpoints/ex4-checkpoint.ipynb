{
 "cells": [
  {
   "cell_type": "code",
   "execution_count": 20,
   "id": "9ae8ab3d",
   "metadata": {},
   "outputs": [
    {
     "name": "stdout",
     "output_type": "stream",
     "text": [
      "Optimal Policy:\n",
      "[-1 -1 -1 -1  1  1  1  1  1 -1]\n",
      "\n",
      "Optimal Value Function:\n",
      "[21.62645012 24.21010711 27.729344   30.74399114 31.70174785 28.59322669\n",
      " 22.94986738 17.96203449 16.96576515 17.51744394]\n"
     ]
    }
   ],
   "source": [
    "import numpy as np\n",
    "import random\n",
    "\n",
    "# Given parameters\n",
    "states = 10\n",
    "actions = [-1, 1]  # -1: move left, 1: move right\n",
    "prob_stay = 0.5\n",
    "prob_move = 0.5\n",
    "discount_factor = 0.9  # Discount factor\n",
    "g = np.array([1, 2, 3, 4, 5, 4, 2, 0, 1, 2])  # Cost array\n",
    "\n",
    "# Transition probabilities\n",
    "P = np.zeros((states + 1, states + 1, len(actions)))\n",
    "\n",
    "for k in range(1, states + 1):\n",
    "    for u_index, u in enumerate(actions):\n",
    "        if u == -1:  # Moving left\n",
    "            for j in range(1, states + 1):\n",
    "                if j == k:\n",
    "                    P[k, j, u_index] = prob_stay\n",
    "                elif j == k - 1:\n",
    "                    P[k, j, u_index] = prob_move\n",
    "        elif u == 1:  # Moving right\n",
    "            for j in range(1, states + 1):\n",
    "                if j == k:\n",
    "                    P[k, j, u_index] = prob_stay\n",
    "                elif j == k + 1:\n",
    "                    P[k, j, u_index] = prob_move\n",
    "\n",
    "# Policy iteration\n",
    "policy = np.zeros(states + 1, dtype=int)  # Initialize policy randomly\n",
    "\n",
    "def evaluate_policy(policy, V):\n",
    "    while True:\n",
    "        V_old = np.copy(V)\n",
    "        for k in range(1, states + 1):\n",
    "            u = policy[k]\n",
    "            expected_value = 0\n",
    "            for u_index, action in enumerate(actions):\n",
    "                next_state = min(max(k + action, 1), states)  # Ensure next state is within bounds\n",
    "                expected_value += P[k, next_state, u_index] * (g[k - 1] + discount_factor * V[next_state])\n",
    "            V[k] = expected_value\n",
    "        if np.max(np.abs(V - V_old)) < 1e-6:\n",
    "            break\n",
    "\n",
    "def improve_policy(policy, V):\n",
    "    policy_stable = True\n",
    "    for k in range(1, states + 1):\n",
    "        old_action = policy[k]\n",
    "        action_values = np.zeros(len(actions))\n",
    "        for u_index, u in enumerate(actions):\n",
    "            next_state = min(max(k + u, 1), states)  # Ensure next state is within bounds\n",
    "            action_values[u_index] = g[k - 1] + discount_factor * V[next_state]\n",
    "        best_actions = [action for action, val in enumerate(action_values) if val == min(action_values)]\n",
    "        new_action = random.choice(best_actions)\n",
    "        policy[k] = actions[new_action]\n",
    "        if old_action != actions[new_action]:\n",
    "            policy_stable = False\n",
    "    return policy_stable\n",
    "\n",
    "V = np.zeros(states + 1)  # Initialize value function\n",
    "\n",
    "policy_stable = False\n",
    "while not policy_stable:\n",
    "    evaluate_policy(policy, V)\n",
    "    policy_stable = improve_policy(policy, V)\n",
    "\n",
    "# Print results\n",
    "print(\"Optimal Policy:\")\n",
    "print(policy[1:])  # Exclude absorbing state\n",
    "print(\"\\nOptimal Value Function:\")\n",
    "print(V[1:])  # Exclude absorbing state\n"
   ]
  },
  {
   "cell_type": "code",
   "execution_count": null,
   "id": "453ce509",
   "metadata": {},
   "outputs": [],
   "source": []
  }
 ],
 "metadata": {
  "kernelspec": {
   "display_name": "Python 3 (ipykernel)",
   "language": "python",
   "name": "python3"
  },
  "language_info": {
   "codemirror_mode": {
    "name": "ipython",
    "version": 3
   },
   "file_extension": ".py",
   "mimetype": "text/x-python",
   "name": "python",
   "nbconvert_exporter": "python",
   "pygments_lexer": "ipython3",
   "version": "3.7.16"
  }
 },
 "nbformat": 4,
 "nbformat_minor": 5
}
