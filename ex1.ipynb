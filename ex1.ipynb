{
 "cells": [
  {
   "cell_type": "code",
   "execution_count": 1,
   "metadata": {},
   "outputs": [],
   "source": [
    "import random\n",
    "\n",
    "class MarkovChain:\n",
    "    def __init__(self, transition_matrix, states):\n",
    "        self.transition_matrix = transition_matrix\n",
    "        self.states = states\n",
    "\n",
    "    def next_state(self, current_state):\n",
    "        next_state_probs = self.transition_matrix[current_state]\n",
    "        next_state = random.choices(self.states, weights=next_state_probs)[0]\n",
    "        return next_state\n",
    "\n",
    "    def generate_sequence(self, start_state, length):\n",
    "        sequence = [start_state]\n",
    "        current_state = start_state\n",
    "        for _ in range(length - 1):\n",
    "            current_state = self.next_state(current_state)\n",
    "            sequence.append(current_state)\n",
    "        return sequence\n",
    "\n",
    "\n",
    "\n",
    "                "
   ]
  },
  {
   "cell_type": "code",
   "execution_count": null,
   "metadata": {},
   "outputs": [],
   "source": [
    "\n",
    "transition_matrix = {\n",
    "    'A': [0, 1-a-b, a, b, 0],\n",
    "    'B': [0, 0, 1, 0, 0]\n",
    "    'C': [0, 0, 0, 1-g, g]\n",
    "    'D': [1, 0, 0, 0, 0]\n",
    "    'G': [0, 0, 0.5, 0, 0.5]\n",
    "}\n",
    "\n",
    "\n",
    "alphas = [0, 0.5, 1]\n",
    "betas = [0, 0.5, 1]\n",
    "gammas = [0, 0.5, 1]\n",
    "for a in alphas:\n",
    "    for b in betas:\n",
    "        for g in gammas:\n",
    "            if 1-a-b+a+b!=1 or 1-g+g !=1:\n",
    "                print(\"a = \" a \" and b = \" b \"and g = \" g)\n",
    "                print(\"row not equal to 1\")\n",
    "                continue\n",
    "            else: "
   ]
  }
 ],
 "metadata": {
  "kernelspec": {
   "display_name": "Python 3 (ipykernel)",
   "language": "python",
   "name": "python3"
  },
  "language_info": {
   "codemirror_mode": {
    "name": "ipython",
    "version": 3
   },
   "file_extension": ".py",
   "mimetype": "text/x-python",
   "name": "python",
   "nbconvert_exporter": "python",
   "pygments_lexer": "ipython3",
   "version": "3.7.16"
  }
 },
 "nbformat": 4,
 "nbformat_minor": 2
}
